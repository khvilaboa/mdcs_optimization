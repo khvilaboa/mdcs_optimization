{
 "cells": [
  {
   "cell_type": "code",
   "execution_count": 1,
   "metadata": {},
   "outputs": [],
   "source": [
    "import pandas as pd\n",
    "import tqdm"
   ]
  },
  {
   "cell_type": "code",
   "execution_count": 2,
   "metadata": {},
   "outputs": [
    {
     "data": {
      "text/html": [
       "<div>\n",
       "<style scoped>\n",
       "    .dataframe tbody tr th:only-of-type {\n",
       "        vertical-align: middle;\n",
       "    }\n",
       "\n",
       "    .dataframe tbody tr th {\n",
       "        vertical-align: top;\n",
       "    }\n",
       "\n",
       "    .dataframe thead th {\n",
       "        text-align: right;\n",
       "    }\n",
       "</style>\n",
       "<table border=\"1\" class=\"dataframe\">\n",
       "  <thead>\n",
       "    <tr style=\"text-align: right;\">\n",
       "      <th></th>\n",
       "      <th>cab_id</th>\n",
       "      <th>epoch</th>\n",
       "      <th>x</th>\n",
       "      <th>y</th>\n",
       "    </tr>\n",
       "  </thead>\n",
       "  <tbody>\n",
       "    <tr>\n",
       "      <th>0</th>\n",
       "      <td>2513682</td>\n",
       "      <td>25740.0</td>\n",
       "      <td>4523.3942</td>\n",
       "      <td>6721.8200</td>\n",
       "    </tr>\n",
       "    <tr>\n",
       "      <th>1</th>\n",
       "      <td>2513682</td>\n",
       "      <td>25740.0</td>\n",
       "      <td>4523.4260</td>\n",
       "      <td>6721.9255</td>\n",
       "    </tr>\n",
       "    <tr>\n",
       "      <th>2</th>\n",
       "      <td>2513682</td>\n",
       "      <td>25760.0</td>\n",
       "      <td>4527.8576</td>\n",
       "      <td>6748.8439</td>\n",
       "    </tr>\n",
       "    <tr>\n",
       "      <th>3</th>\n",
       "      <td>2513682</td>\n",
       "      <td>25780.0</td>\n",
       "      <td>4540.7277</td>\n",
       "      <td>6771.4533</td>\n",
       "    </tr>\n",
       "    <tr>\n",
       "      <th>4</th>\n",
       "      <td>2513682</td>\n",
       "      <td>25800.0</td>\n",
       "      <td>4562.4343</td>\n",
       "      <td>6788.3537</td>\n",
       "    </tr>\n",
       "  </tbody>\n",
       "</table>\n",
       "</div>"
      ],
      "text/plain": [
       "    cab_id    epoch          x          y\n",
       "0  2513682  25740.0  4523.3942  6721.8200\n",
       "1  2513682  25740.0  4523.4260  6721.9255\n",
       "2  2513682  25760.0  4527.8576  6748.8439\n",
       "3  2513682  25780.0  4540.7277  6771.4533\n",
       "4  2513682  25800.0  4562.4343  6788.3537"
      ]
     },
     "execution_count": 2,
     "metadata": {},
     "output_type": "execute_result"
    }
   ],
   "source": [
    "df = pd.read_csv(\"footstep_cl_corr.log\", delimiter=\",\")\n",
    "ratio = 3\n",
    "df.head()"
   ]
  },
  {
   "cell_type": "code",
   "execution_count": 3,
   "metadata": {},
   "outputs": [
    {
     "data": {
      "text/plain": [
       "array([2513682, 2436219, 2495772, ..., 2483468, 2505891, 2445007])"
      ]
     },
     "execution_count": 3,
     "metadata": {},
     "output_type": "execute_result"
    }
   ],
   "source": [
    "ids = df[\"cab_id\"].unique()\n",
    "ids"
   ]
  },
  {
   "cell_type": "code",
   "execution_count": 4,
   "metadata": {},
   "outputs": [
    {
     "name": "stderr",
     "output_type": "stream",
     "text": [
      "100%|██████████| 40000/40000 [11:26<00:00, 58.29it/s]\n"
     ]
    }
   ],
   "source": [
    "dfs = []\n",
    "for cid in tqdm.tqdm(ids):\n",
    "    df_curr = df[df[\"cab_id\"] == cid]\n",
    "    df_new = df_curr.iloc[::ratio,:]\n",
    "    if df_curr.iloc[-1,:].name != df_new.iloc[-1,:].name:\n",
    "        df_new.append(df_curr.iloc[-1,:], ignore_index=True)\n",
    "    dfs.append(df_curr)"
   ]
  },
  {
   "cell_type": "code",
   "execution_count": 6,
   "metadata": {},
   "outputs": [],
   "source": [
    "df_new = pd.concat(dfs)"
   ]
  },
  {
   "cell_type": "code",
   "execution_count": 7,
   "metadata": {},
   "outputs": [],
   "source": [
    "df_new.to_csv(\"footstep_cl_corr_r1%d.log\" % ratio, index=False)"
   ]
  },
  {
   "cell_type": "code",
   "execution_count": null,
   "metadata": {},
   "outputs": [],
   "source": []
  }
 ],
 "metadata": {
  "kernelspec": {
   "display_name": "Python 3",
   "language": "python",
   "name": "python3"
  },
  "language_info": {
   "codemirror_mode": {
    "name": "ipython",
    "version": 3
   },
   "file_extension": ".py",
   "mimetype": "text/x-python",
   "name": "python",
   "nbconvert_exporter": "python",
   "pygments_lexer": "ipython3",
   "version": "3.7.3"
  }
 },
 "nbformat": 4,
 "nbformat_minor": 4
}
